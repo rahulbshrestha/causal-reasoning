{
 "cells": [
  {
   "cell_type": "markdown",
   "metadata": {},
   "source": [
    "# Perturbations"
   ]
  },
  {
   "cell_type": "markdown",
   "metadata": {},
   "source": [
    "Generating the nonsensical dataset"
   ]
  },
  {
   "cell_type": "markdown",
   "metadata": {},
   "source": [
    "#### 1. Data Preparation\n"
   ]
  },
  {
   "cell_type": "code",
   "execution_count": 1,
   "metadata": {},
   "outputs": [],
   "source": [
    "import pandas as pd\n",
    "import json\n",
    "\n",
    "dataset_path = \"../data/cladder/cladder-v1-q-commonsense.json\"\n",
    "with open(dataset_path, \"r\") as f:\n",
    "    data = json.load(f)\n",
    "    \n",
    "df = pd.DataFrame(data)\n",
    "df.rename(columns={'given_info': 'info'}, inplace=True)\n",
    "\n",
    "df = df[df['meta'].apply(lambda x: x.get('query_type') != 'backadj')].reset_index(drop=True)\n"
   ]
  },
  {
   "cell_type": "code",
   "execution_count": 2,
   "metadata": {},
   "outputs": [
    {
     "data": {
      "text/plain": [
       "'Will alarm set by husband increase the chance of ringing alarm?'"
      ]
     },
     "execution_count": 2,
     "metadata": {},
     "output_type": "execute_result"
    }
   ],
   "source": [
    "df.iloc[0]['question']\n"
   ]
  },
  {
   "cell_type": "code",
   "execution_count": 3,
   "metadata": {},
   "outputs": [
    {
     "data": {
      "text/html": [
       "<div>\n",
       "<style scoped>\n",
       "    .dataframe tbody tr th:only-of-type {\n",
       "        vertical-align: middle;\n",
       "    }\n",
       "\n",
       "    .dataframe tbody tr th {\n",
       "        vertical-align: top;\n",
       "    }\n",
       "\n",
       "    .dataframe thead th {\n",
       "        text-align: right;\n",
       "    }\n",
       "</style>\n",
       "<table border=\"1\" class=\"dataframe\">\n",
       "  <thead>\n",
       "    <tr style=\"text-align: right;\">\n",
       "      <th></th>\n",
       "      <th>question_id</th>\n",
       "      <th>desc_id</th>\n",
       "      <th>info</th>\n",
       "      <th>question</th>\n",
       "      <th>answer</th>\n",
       "      <th>meta</th>\n",
       "      <th>reasoning</th>\n",
       "    </tr>\n",
       "  </thead>\n",
       "  <tbody>\n",
       "    <tr>\n",
       "      <th>0</th>\n",
       "      <td>0</td>\n",
       "      <td>alarm-mediation-ate-model0-spec0-q0</td>\n",
       "      <td>For husbands that don't set the alarm, the pro...</td>\n",
       "      <td>Will alarm set by husband increase the chance ...</td>\n",
       "      <td>yes</td>\n",
       "      <td>{'story_id': 'alarm', 'graph_id': 'mediation',...</td>\n",
       "      <td>{'step0': 'Let X = husband; V2 = wife; Y = ala...</td>\n",
       "    </tr>\n",
       "    <tr>\n",
       "      <th>1</th>\n",
       "      <td>1</td>\n",
       "      <td>alarm-mediation-ate-model0-spec0-q1</td>\n",
       "      <td>For husbands that don't set the alarm, the pro...</td>\n",
       "      <td>Will alarm set by husband decrease the chance ...</td>\n",
       "      <td>no</td>\n",
       "      <td>{'story_id': 'alarm', 'graph_id': 'mediation',...</td>\n",
       "      <td>{'step0': 'Let X = husband; V2 = wife; Y = ala...</td>\n",
       "    </tr>\n",
       "  </tbody>\n",
       "</table>\n",
       "</div>"
      ],
      "text/plain": [
       "   question_id                              desc_id  \\\n",
       "0            0  alarm-mediation-ate-model0-spec0-q0   \n",
       "1            1  alarm-mediation-ate-model0-spec0-q1   \n",
       "\n",
       "                                                info  \\\n",
       "0  For husbands that don't set the alarm, the pro...   \n",
       "1  For husbands that don't set the alarm, the pro...   \n",
       "\n",
       "                                            question answer  \\\n",
       "0  Will alarm set by husband increase the chance ...    yes   \n",
       "1  Will alarm set by husband decrease the chance ...     no   \n",
       "\n",
       "                                                meta  \\\n",
       "0  {'story_id': 'alarm', 'graph_id': 'mediation',...   \n",
       "1  {'story_id': 'alarm', 'graph_id': 'mediation',...   \n",
       "\n",
       "                                           reasoning  \n",
       "0  {'step0': 'Let X = husband; V2 = wife; Y = ala...  \n",
       "1  {'step0': 'Let X = husband; V2 = wife; Y = ala...  "
      ]
     },
     "execution_count": 3,
     "metadata": {},
     "output_type": "execute_result"
    }
   ],
   "source": [
    "df.head(2)"
   ]
  },
  {
   "cell_type": "code",
   "execution_count": 4,
   "metadata": {},
   "outputs": [
    {
     "data": {
      "text/plain": [
       "{'story_id': 'alarm',\n",
       " 'graph_id': 'mediation',\n",
       " 'mediators': ['V2'],\n",
       " 'polarity': False,\n",
       " 'groundtruth': 0.35250941023943905,\n",
       " 'query_type': 'nde',\n",
       " 'rung': 3,\n",
       " 'formal_form': 'E[Y_{X=1, V2=0} - Y_{X=0, V2=0}]',\n",
       " 'given_info': {'p(Y | X, V2)': [[0.07539329207269328, 0.5003865412696569],\n",
       "   [0.3886361970461835, 0.8599843795718491]],\n",
       "  'p(V2 | X)': [0.8470836315848196, 0.289175632189055]},\n",
       " 'estimand': '\\\\sum_{V2=v} P(V2=v|X=0)*[P(Y=1|X=1,V2=v) - P(Y=1|X=0, V2=v)]',\n",
       " 'treatment': 'X',\n",
       " 'outcome': 'Y',\n",
       " 'model_id': 22}"
      ]
     },
     "execution_count": 4,
     "metadata": {},
     "output_type": "execute_result"
    }
   ],
   "source": [
    "df.iloc[100]['meta']"
   ]
  },
  {
   "cell_type": "code",
   "execution_count": 5,
   "metadata": {},
   "outputs": [
    {
     "name": "stdout",
     "output_type": "stream",
     "text": [
      "Info:  For husbands that don't set the alarm and wives that don't set the alarm, the probability of ringing alarm is 8%. For husbands that don't set the alarm and wives that set the alarm, the probability of ringing alarm is 50%. For husbands that set the alarm and wives that don't set the alarm, the probability of ringing alarm is 39%. For husbands that set the alarm and wives that set the alarm, the probability of ringing alarm is 86%. For husbands that don't set the alarm, the probability of alarm set by wife is 85%. For husbands that set the alarm, the probability of alarm set by wife is 29%.\n",
      "Question:  If we disregard the mediation effect through wife, would husband negatively affect alarm clock?\n",
      "Answer:  no\n",
      "Graph ID:  mediation\n",
      "Query type:  nde\n",
      "Rung:  3\n",
      "Formal form:  E[Y_{X=1, V2=0} - Y_{X=0, V2=0}]\n",
      "Reasoning:  {'step0': 'Let X = husband; V2 = wife; Y = alarm clock.', 'step1': 'X->V2,X->Y,V2->Y', 'step2': 'E[Y_{X=1, V2=0} - Y_{X=0, V2=0}]', 'step3': '\\\\sum_{V2=v} P(V2=v|X=0)*[P(Y=1|X=1,V2=v) - P(Y=1|X=0, V2=v)]', 'step4': 'P(Y=1 | X=0, V2=0) = 0.08\\nP(Y=1 | X=0, V2=1) = 0.50\\nP(Y=1 | X=1, V2=0) = 0.39\\nP(Y=1 | X=1, V2=1) = 0.86\\nP(V2=1 | X=0) = 0.85\\nP(V2=1 | X=1) = 0.29', 'step5': '0.85 * (0.86 - 0.39) + 0.29 * (0.50 - 0.08) = 0.35', 'end': '0.35 > 0'}\n"
     ]
    }
   ],
   "source": [
    "index = 100\n",
    "\n",
    "print('Info: ', df.iloc[index]['info'])\n",
    "print('Question: ', df.iloc[index]['question'])\n",
    "print('Answer: ', df.iloc[index]['answer'])\n",
    "print('Graph ID: ', df.iloc[index]['meta']['graph_id'])\n",
    "print('Query type: ', df.iloc[index]['meta']['query_type'])\n",
    "print('Rung: ', df.iloc[index]['meta']['rung'])\n",
    "print('Formal form: ', df.iloc[index]['meta']['formal_form'])\n",
    "print('Reasoning: ' , df.iloc[index]['reasoning'])"
   ]
  },
  {
   "cell_type": "code",
   "execution_count": 6,
   "metadata": {},
   "outputs": [
    {
     "data": {
      "text/plain": [
       "{'story_id': 'alarm',\n",
       " 'graph_id': 'mediation',\n",
       " 'mediators': ['V2'],\n",
       " 'polarity': False,\n",
       " 'groundtruth': -0.2305349321780112,\n",
       " 'query_type': 'nie',\n",
       " 'rung': 3,\n",
       " 'formal_form': 'E[Y_{X=0, V2=1} - Y_{X=0, V2=0}]',\n",
       " 'given_info': {'p(Y | X, V2)': [[0.08430222457648505, 0.5394610521458689],\n",
       "   [0.4061509701126924, 0.8620283206949241]],\n",
       "  'p(V2 | X)': [0.7416866188819116, 0.23519324071521291]},\n",
       " 'estimand': '\\\\sum_{V2 = v} P(Y=1|X =0,V2 = v)*[P(V2 = v | X = 1) − P(V2 = v | X = 0)]',\n",
       " 'treatment': 'X',\n",
       " 'outcome': 'Y',\n",
       " 'model_id': 0}"
      ]
     },
     "execution_count": 6,
     "metadata": {},
     "output_type": "execute_result"
    }
   ],
   "source": [
    "df['meta'][3]"
   ]
  },
  {
   "cell_type": "code",
   "execution_count": 7,
   "metadata": {},
   "outputs": [],
   "source": [
    "df_new = df.copy()\n",
    "meta_df = df_new['meta'].apply(pd.Series)\n",
    "meta_df\n",
    "df_new = pd.concat([df_new, meta_df], axis = 1)\n",
    "df_new = df_new.drop('meta', axis = 1)\n",
    "df_new.rename(columns={'given_info': 'given_info_meta', 'given_info': 'given_info'}, inplace=True)"
   ]
  },
  {
   "cell_type": "code",
   "execution_count": 8,
   "metadata": {},
   "outputs": [
    {
     "data": {
      "text/plain": [
       "array(['ate', 'ett', 'nie', 'nde', 'marginal', 'correlation', 'exp_away',\n",
       "       'collider_bias', 'det-counterfactual'], dtype=object)"
      ]
     },
     "execution_count": 8,
     "metadata": {},
     "output_type": "execute_result"
    }
   ],
   "source": [
    "df_new['query_type'].unique()"
   ]
  },
  {
   "cell_type": "code",
   "execution_count": 9,
   "metadata": {},
   "outputs": [
    {
     "data": {
      "text/plain": [
       "Index(['question_id', 'desc_id', 'info', 'question', 'answer', 'reasoning',\n",
       "       'story_id', 'graph_id', 'treated', 'result', 'polarity', 'groundtruth',\n",
       "       'query_type', 'rung', 'formal_form', 'given_info', 'estimand',\n",
       "       'treatment', 'outcome', 'model_id', 'mediators', 'baseline', 'collider',\n",
       "       'action'],\n",
       "      dtype='object')"
      ]
     },
     "execution_count": 9,
     "metadata": {},
     "output_type": "execute_result"
    }
   ],
   "source": [
    "df_new.columns"
   ]
  },
  {
   "cell_type": "code",
   "execution_count": 10,
   "metadata": {},
   "outputs": [
    {
     "name": "stdout",
     "output_type": "stream",
     "text": [
      "1000\n"
     ]
    }
   ],
   "source": [
    "df_sampled = df_new.sample(n = 1000, random_state=25)\n",
    "print(len(df_sampled))"
   ]
  },
  {
   "cell_type": "code",
   "execution_count": 11,
   "metadata": {},
   "outputs": [
    {
     "name": "stdout",
     "output_type": "stream",
     "text": [
      "      question_id                                            desc_id  \\\n",
      "297           915  firing_employee-diamondcut-marginal-model79-sp...   \n",
      "4914        15784       vaccine_kills-diamond-nie-model4119-spec5-q0   \n",
      "7222        23367  smoke_birthWeight-arrowhead-ett-model4780-spec...   \n",
      "3318        10711  smoke_birthWeight-arrowhead-nde-model936-spec6-q1   \n",
      "7091        22933  simpson_kidneystone-confounding-ett-model4739-...   \n",
      "3787        12133   smoking_tar_cancer-chain-ate-model1046-spec26-q1   \n",
      "3466        11200  smoking_frontdoor-frontdoor-nie-model973-spec1...   \n",
      "2392         7802  nature_vs_nurture-arrowhead-nie-model677-spec1...   \n",
      "2716         8852  orange_scurvy-chain-correlation-model752-spec2-q0   \n",
      "8306        25842  orange_scurvy-chain-det-counterfactual-model33...   \n",
      "\n",
      "                                                   info  \\\n",
      "297   The overall probability of manager signing the...   \n",
      "4914  For unvaccinated individuals, the probability ...   \n",
      "7222  For infants with nonsmoking mothers, the proba...   \n",
      "3318  For infants with nonsmoking mothers and low in...   \n",
      "7091  For patients who have small kidney stones and ...   \n",
      "3787  For nonsmokers, the probability of lung cancer...   \n",
      "3466  For nonsmokers, the probability of high tar de...   \n",
      "2392  For children with unintelligent parents and wi...   \n",
      "2716  The overall probability of citrus intake is 84...   \n",
      "8306  We know that citrus intake causes sufficient v...   \n",
      "\n",
      "                                               question answer  \\\n",
      "297   Is employee being fired less likely than emplo...    yes   \n",
      "4914  Does vaccination status positively affect smal...    yes   \n",
      "7222  For infants with smoking mothers, would it be ...     no   \n",
      "3318  If we disregard the mediation effect through i...     no   \n",
      "7091  For patients receiving treatment, would it be ...     no   \n",
      "3787   Will smoking decrease the chance of lung cancer?     no   \n",
      "3466  Does smoking positively affect lung cancer thr...    yes   \n",
      "2392  Does parents' intelligence positively affect c...     no   \n",
      "2716  Is the chance of scurvy larger when observing ...     no   \n",
      "8306  Would the patient has scurvy if citrus intake ...    yes   \n",
      "\n",
      "                                              reasoning             story_id  \\\n",
      "297   {'step0': 'Let V1 = CEO; V3 = director; X = ma...      firing_employee   \n",
      "4914  {'step0': 'Let X = vaccination status; V3 = va...        vaccine_kills   \n",
      "7222  {'step0': 'Let V2 = health condition; X = mate...    smoke_birthWeight   \n",
      "3318  {'step0': 'Let V2 = health condition; X = mate...    smoke_birthWeight   \n",
      "7091  {'step0': 'Let V1 = kidney stone size; X = tre...  simpson_kidneystone   \n",
      "3787  {'step0': 'Let X = smoking; V2 = tar deposit; ...   smoking_tar_cancer   \n",
      "3466  {'step0': 'Let V1 = gender; X = smoking; V3 = ...    smoking_frontdoor   \n",
      "2392  {'step0': 'Let V2 = other unobserved factors; ...    nature_vs_nurture   \n",
      "2716  {'step0': 'Let X = eating citrus; V2 = vitmain...        orange_scurvy   \n",
      "8306  {'step0': 'Let X = eating citrus; V2 = vitmain...        orange_scurvy   \n",
      "\n",
      "         graph_id treated result  ...  \\\n",
      "297    diamondcut    True    NaN  ...   \n",
      "4914      diamond     NaN    NaN  ...   \n",
      "7222    arrowhead    True   True  ...   \n",
      "3318    arrowhead     NaN    NaN  ...   \n",
      "7091  confounding    True   True  ...   \n",
      "3787        chain    True   True  ...   \n",
      "3466    frontdoor     NaN    NaN  ...   \n",
      "2392    arrowhead     NaN    NaN  ...   \n",
      "2716        chain    True    NaN  ...   \n",
      "8306        chain     NaN    NaN  ...   \n",
      "\n",
      "                                       formal_form  \\\n",
      "297                                           P(Y)   \n",
      "4914  E[Y_{X=0, V2=1, V3=1} - Y_{X=0, V2=0, V3=0}]   \n",
      "7222              E[Y_{X = 1} - Y_{X = 0} | X = 1]   \n",
      "3318              E[Y_{X=1, V3=0} - Y_{X=0, V3=0}]   \n",
      "7091              E[Y_{X = 1} - Y_{X = 0} | X = 1]   \n",
      "3787           E[Y | do(X = 1)] - E[Y | do(X = 0)]   \n",
      "3466              E[Y_{X=0, V3=1} - Y_{X=0, V3=0}]   \n",
      "2392              E[Y_{X=0, V3=1} - Y_{X=0, V3=0}]   \n",
      "2716                                      P(Y | X)   \n",
      "8306                                Y_{X=1} = 1 |    \n",
      "\n",
      "                                             given_info  \\\n",
      "297   {'P(X)': 0.3932483455709839, 'P(Y | X)': [0.21...   \n",
      "4914  {'p(Y | X)': [0.3511854465349765, 0.3979650215...   \n",
      "7222  {'p(Y | X)': [0.8756001338216379, 0.6380765315...   \n",
      "3318  {'p(Y | X, V3)': [[0.45711454060786794, 0.2085...   \n",
      "7091  {'p(Y | V1, X)': [[0.8820834121782334, 0.71979...   \n",
      "3787  {'p(Y | X)': [0.14096540286253953, 0.339649176...   \n",
      "3466  {'p(V3 | X)': [0.22109635627255306, 0.72720955...   \n",
      "2392  {'p(Y | X, V3)': [[0.5298103149209101, 0.22223...   \n",
      "2716  {'P(X=1)': 0.8385066792275122, 'P(Y=1, X=0)': ...   \n",
      "8306                                                 {}   \n",
      "\n",
      "                                               estimand  treatment outcome  \\\n",
      "297                                                 NaN          X       Y   \n",
      "4914                            P(Y=1|X=1) - P(Y=1|X=0)          X       Y   \n",
      "7222                            P(Y=1|X=1) - P(Y=1|X=0)          X       Y   \n",
      "3318  \\sum_{V3=v} [\\sum_{V2=k}[P(Y=1|X=1,V3=v)-P(Y=1...          X       Y   \n",
      "7091  \\sum_{V1=v} P(V1=v|X=1)*[P(Y=1|V1=v,X=1) - P(Y...          X       Y   \n",
      "3787                            P(Y=1|X=1) - P(Y=1|X=0)          X       Y   \n",
      "3466  \\sum_{V3 = v} [P(V3 = v|X = 1) - P(V3 = v|X = ...          X       Y   \n",
      "2392  \\sum_{V3=v} [\\sum_{V2=k} P(Y=1|X=0,V3=v)*[P(V3...          X       Y   \n",
      "2716                                                NaN          X       Y   \n",
      "8306                                                NaN          X       Y   \n",
      "\n",
      "     model_id mediators baseline collider  action  \n",
      "297        79       NaN      NaN      NaN     NaN  \n",
      "4914     4119  [V2, V3]      NaN      NaN     NaN  \n",
      "7222     4780       NaN      NaN      NaN     NaN  \n",
      "3318      936      [V3]      NaN      NaN     NaN  \n",
      "7091     4739       NaN      NaN      NaN     NaN  \n",
      "3787     1046       NaN      NaN      NaN     NaN  \n",
      "3466      973      [V3]      NaN      NaN     NaN  \n",
      "2392      677      [V3]      NaN      NaN     NaN  \n",
      "2716      752       NaN      NaN      NaN     NaN  \n",
      "8306     3306       NaN      NaN      NaN     1.0  \n",
      "\n",
      "[10 rows x 24 columns]\n"
     ]
    }
   ],
   "source": [
    "print(df_sampled.head(10))"
   ]
  },
  {
   "cell_type": "code",
   "execution_count": 12,
   "metadata": {},
   "outputs": [
    {
     "name": "stdout",
     "output_type": "stream",
     "text": [
      "answer\n",
      "no     504\n",
      "yes    496\n",
      "Name: count, dtype: int64\n",
      "answer\n",
      "yes    4345\n",
      "no     4345\n",
      "Name: count, dtype: int64\n",
      "----------------------------------\n",
      "query_type\n",
      "marginal              209\n",
      "ate                   174\n",
      "correlation           174\n",
      "ett                   138\n",
      "det-counterfactual     95\n",
      "nie                    92\n",
      "nde                    73\n",
      "collider_bias          23\n",
      "exp_away               22\n",
      "Name: count, dtype: int64\n",
      "query_type\n",
      "marginal              1702\n",
      "ate                   1518\n",
      "correlation           1518\n",
      "ett                   1288\n",
      "nie                    874\n",
      "det-counterfactual     870\n",
      "nde                    552\n",
      "exp_away               184\n",
      "collider_bias          184\n",
      "Name: count, dtype: int64\n",
      "----------------------------------\n",
      "answer\n",
      "no     504\n",
      "yes    496\n",
      "Name: count, dtype: int64\n",
      "answer\n",
      "yes    4345\n",
      "no     4345\n",
      "Name: count, dtype: int64\n",
      "----------------------------------\n",
      "graph_id\n",
      "mediation      197\n",
      "arrowhead      188\n",
      "confounding    106\n",
      "diamond        105\n",
      "IV             102\n",
      "chain           85\n",
      "fork            84\n",
      "collision       74\n",
      "frontdoor       32\n",
      "diamondcut      27\n",
      "Name: count, dtype: int64\n",
      "graph_id\n",
      "arrowhead      1848\n",
      "mediation      1752\n",
      "IV              920\n",
      "confounding     864\n",
      "fork            800\n",
      "diamond         738\n",
      "chain           738\n",
      "collision       552\n",
      "frontdoor       262\n",
      "diamondcut      216\n",
      "Name: count, dtype: int64\n",
      "----------------------------------\n",
      "rung\n",
      "1    405\n",
      "3    398\n",
      "2    197\n",
      "Name: count, dtype: int64\n",
      "rung\n",
      "3    3584\n",
      "1    3404\n",
      "2    1702\n",
      "Name: count, dtype: int64\n",
      "----------------------------------\n",
      "query_type\n",
      "marginal              209\n",
      "ate                   174\n",
      "correlation           174\n",
      "ett                   138\n",
      "det-counterfactual     95\n",
      "nie                    92\n",
      "nde                    73\n",
      "collider_bias          23\n",
      "exp_away               22\n",
      "Name: count, dtype: int64\n",
      "query_type\n",
      "marginal              1702\n",
      "ate                   1518\n",
      "correlation           1518\n",
      "ett                   1288\n",
      "nie                    874\n",
      "det-counterfactual     870\n",
      "nde                    552\n",
      "exp_away               184\n",
      "collider_bias          184\n",
      "Name: count, dtype: int64\n",
      "----------------------------------\n",
      "story_id\n",
      "penguin                   40\n",
      "obesity_mortality         39\n",
      "blood_pressure            38\n",
      "floor_wet                 38\n",
      "simpson_hospital          37\n",
      "encouagement_program      35\n",
      "firing_squad              35\n",
      "nature_vs_nurture         34\n",
      "smoking_frontdoor         32\n",
      "vaccine_kills             32\n",
      "smoking_gene_cancer       31\n",
      "orange_scurvy             30\n",
      "neg_mediation             30\n",
      "alarm                     29\n",
      "gender_admission_state    29\n",
      "smoking_tar_cancer        28\n",
      "gender_pay                28\n",
      "simpson_vaccine           28\n",
      "firing_employee           27\n",
      "college_salary            27\n",
      "smoke_birthWeight         27\n",
      "celebrity                 26\n",
      "candle                    25\n",
      "gender_admission          25\n",
      "price                     25\n",
      "college_wage              23\n",
      "forest_fire               21\n",
      "simpson_kidneystone       21\n",
      "cholesterol               20\n",
      "simpson_drug              20\n",
      "getting_late              20\n",
      "hospitalization           20\n",
      "getting_tanned            18\n",
      "tax_smoke_birthWeight     18\n",
      "elite_students            17\n",
      "water_cholera             16\n",
      "man_in_relationship       11\n",
      "Name: count, dtype: int64\n",
      "story_id\n",
      "gender_admission_state    308\n",
      "smoking_gene_cancer       308\n",
      "smoke_birthWeight         308\n",
      "obesity_mortality         308\n",
      "nature_vs_nurture         308\n",
      "gender_pay                308\n",
      "blood_pressure            292\n",
      "neg_mediation             292\n",
      "gender_admission          292\n",
      "encouagement_program      292\n",
      "alarm                     292\n",
      "penguin                   292\n",
      "smoking_frontdoor         262\n",
      "floor_wet                 246\n",
      "college_salary            246\n",
      "smoking_tar_cancer        246\n",
      "vaccine_kills             246\n",
      "orange_scurvy             246\n",
      "firing_squad              246\n",
      "simpson_drug              216\n",
      "simpson_vaccine           216\n",
      "firing_employee           216\n",
      "simpson_kidneystone       216\n",
      "simpson_hospital          216\n",
      "getting_late              200\n",
      "forest_fire               200\n",
      "getting_tanned            200\n",
      "candle                    200\n",
      "tax_smoke_birthWeight     184\n",
      "water_cholera             184\n",
      "price                     184\n",
      "cholesterol               184\n",
      "college_wage              184\n",
      "man_in_relationship       138\n",
      "hospitalization           138\n",
      "elite_students            138\n",
      "celebrity                 138\n",
      "Name: count, dtype: int64\n",
      "----------------------------------\n",
      "polarity\n",
      "False    502\n",
      "True     498\n",
      "Name: count, dtype: int64\n",
      "polarity\n",
      "True     4360\n",
      "False    4330\n",
      "Name: count, dtype: int64\n",
      "----------------------------------\n"
     ]
    }
   ],
   "source": [
    "column_names = ['answer', 'query_type', 'answer', 'graph_id', 'rung', 'query_type', 'story_id', 'polarity']\n",
    "\n",
    "for column_name in column_names:\n",
    "    print(df_sampled[column_name].value_counts())\n",
    "    print(df_new[column_name]. value_counts())\n",
    "    print('----------------------------------')"
   ]
  },
  {
   "cell_type": "code",
   "execution_count": 13,
   "metadata": {},
   "outputs": [
    {
     "name": "stdout",
     "output_type": "stream",
     "text": [
      "Info:  For patients who have small kidney stones and not receiving treatment, the probability of recovery is 88%. For patients who have small kidney stones and receiving treatment, the probability of recovery is 72%. For patients who have large kidney stones and not receiving treatment, the probability of recovery is 16%. For patients who have large kidney stones and receiving treatment, the probability of recovery is 4%. The overall probability of large kidney stone is 41%.\n",
      "Question:  For patients receiving treatment, would it be less likely to see recovery if the patient had received no treatment?\n",
      "Answer:  no\n",
      "Graph ID:  confounding\n",
      "Query type:  ett\n",
      "Rung:  3\n",
      "Formal form:  E[Y_{X = 1} - Y_{X = 0} | X = 1]\n",
      "Reasoning:  {'step0': 'Let V1 = kidney stone size; X = treatment; Y = recovery.', 'step1': 'V1->X,V1->Y,X->Y', 'step2': 'E[Y_{X = 1} - Y_{X = 0} | X = 1]', 'step3': '\\\\sum_{V1=v} P(V1=v|X=1)*[P(Y=1|V1=v,X=1) - P(Y=1|V1=v, X=0)]', 'step4': 'P(Y=1 | V1=0, X=0) = 0.88\\nP(Y=1 | V1=0, X=1) = 0.72\\nP(Y=1 | V1=1, X=0) = 0.16\\nP(Y=1 | V1=1, X=1) = 0.04\\nP(V1=1) = 0.41', 'step5': '0.59 * (0.72 - 0.88) + 0.41 * (0.04 - 0.16) = -0.16', 'end': '-0.16 < 0'}\n"
     ]
    }
   ],
   "source": [
    "index = 4\n",
    "\n",
    "print('Info: ', df_sampled.iloc[index]['info'])\n",
    "print('Question: ', df_sampled.iloc[index]['question'])\n",
    "print('Answer: ', df_sampled.iloc[index]['answer'])\n",
    "print('Graph ID: ', df_sampled.iloc[index]['graph_id'])\n",
    "print('Query type: ', df_sampled.iloc[index]['query_type'])\n",
    "print('Rung: ', df_sampled.iloc[index]['rung'])\n",
    "print('Formal form: ', df_sampled.iloc[index]['formal_form'])\n",
    "print('Reasoning: ' , df_sampled.iloc[index]['reasoning'])"
   ]
  },
  {
   "cell_type": "markdown",
   "metadata": {},
   "source": [
    "#### 2. Apply perturbations with a LLM"
   ]
  },
  {
   "cell_type": "code",
   "execution_count": 14,
   "metadata": {},
   "outputs": [],
   "source": [
    "df_cladder = df_sampled.copy()\n",
    "\n",
    "def add_column(df, model_name):   \n",
    "    if model_name not in df.columns: \n",
    "        df[model_name] = None\n",
    "    else:\n",
    "        print(model_name + \" already exists in Dataframe!\")\n",
    "\n",
    "\n",
    "column_names = ['anticommonsensical_info', 'anticommonsensical_question', 'nonsensical_info', 'nonsensical_question']\n",
    "\n",
    "\n",
    "for c in column_names:\n",
    "    add_column(df_cladder, c)    \n",
    "\n",
    "df_cladder = df_cladder.reset_index(drop=True)"
   ]
  },
  {
   "cell_type": "code",
   "execution_count": 21,
   "metadata": {},
   "outputs": [
    {
     "name": "stdout",
     "output_type": "stream",
     "text": [
      "Let V2 = smoking; X = obesity; V3 = diabetes; Y = lifespan. The overall probability of obesity is 85%. The probability of normal weight and long lifespan is 10%. The probability of obesity and long lifespan is 42%. Is the chance of long lifespan larger when observing obesity?\n"
     ]
    }
   ],
   "source": [
    "index = 200\n",
    "\n",
    "variables = df_cladder.iloc[index]['reasoning']['step0']\n",
    "info = df_cladder.iloc[index]['info']\n",
    "question = df_cladder.iloc[index]['question']\n",
    "\n",
    "print(variables, info, question)\n"
   ]
  },
  {
   "cell_type": "code",
   "execution_count": 22,
   "metadata": {},
   "outputs": [
    {
     "data": {
      "text/plain": [
       "'Variables: Let V2 = smoking; X = obesity; V3 = diabetes; Y = lifespan.\\nInfo: The overall probability of obesity is 85%. The probability of normal weight and long lifespan is 10%. The probability of obesity and long lifespan is 42%.\\nQuestion: Is the chance of long lifespan larger when observing obesity?\\n'"
      ]
     },
     "execution_count": 22,
     "metadata": {},
     "output_type": "execute_result"
    }
   ],
   "source": [
    "'Variables: ' + variables + '\\n' + 'Info: ' + info + '\\n' + 'Question: ' + question + '\\n'"
   ]
  },
  {
   "cell_type": "code",
   "execution_count": 23,
   "metadata": {},
   "outputs": [],
   "source": [
    "RANDOMIZE_WORD_PROMPT =\"\"\"\n",
    "\"Variables: Let V2 = health condition; X = maternal smoking status; V3 = infant's birth weight; Y = infant mortality.\\nInfo: The overall probability of smoking mother is 87%. For infants with nonsmoking mothers, the probability of high infant mortality is 54%. For infants with smoking mothers, the probability of high infant mortality is 31%.\\nQuestion: Is high infant mortality less likely than low infant mortality overall?\\n\"\n",
    " -> \n",
    "\"Variables: Let V2 = adfg; X = lkjh; V3 = ipou; Y = cdre.\\nInfo: The overall probability of lkjhis 87%. For infants with non-lkjh, the probability of high cdre is 54%. For infants with lkjh, the probability of high cdre is 31%.\\nQuestion: Is high cdre less likely than low cdre overall?\\n\"\n",
    "\n",
    "'Variables: Let V2 = residency status; X = gender; V3 = department competitiveness; Y = admission status.\\nInfo: For individuals who are not male and applicants to a non-competitive department, the probability of admission acceptance is 64%. For individuals who are not male and applicants to a competitive department, the probability of admission acceptance is 39%. For individuals who are male and applicants to a non-competitive department, the probability of admission acceptance is 65%. For individuals who are male and applicants to a competitive department, the probability of admission acceptance is 39%. For individuals who are not male and out-of-state residents, the probability of competitive department is 51%. For individuals who are not male and in-state residents, the probability of competitive department is 21%. For individuals who are male and out-of-state residents, the probability of competitive department is 78%. For individuals who are male and in-state residents, the probability of competitive department is 47%. The overall probability of in-state residency is 93%.\\nQuestion: Does gender positively affect admission status through department competitiveness?\\n'\n",
    "->\n",
    "“Variables: Let V2 = noiu; X = fewq; V3 = lkjh; Y = kjfd.\\nInfo: For individuals who are not noiu and applicants to a non-lkjh, the probability of kjfd is 64%. For individuals who are not noiu and applicants to lkjh, the probability of kjfd is 39%. For individuals who are fewq and applicants to a non-lkjh, the probability of kjfd is 65%. For individuals who are fewq and applicants to lkjh, the probability of kjfd is 39%. For individuals who are not fewq and not noiu, the probability of lkjh is 51%. For individuals who are not fewq and noiu, the probability of lkjh is 21%. For individuals who are fewq and not noiu, the probability of lkjh is 78%. For individuals who are fewq and noiu, the probability of lkjh is 47%. The overall probability of noiu is 93%.\\nQuestion: Does noiu positively affect kjfd through department lkjh?”\n",
    "\"\"\"\n",
    "\n",
    "INSTRUCTION_PROMPT = \"\"\"\n",
    "-> (Change all variables to a four-lettered random nonsensical word in Question and Info, and return the final paragraph similar to the previous examples) ->\n",
    "\"\"\""
   ]
  },
  {
   "cell_type": "code",
   "execution_count": 24,
   "metadata": {},
   "outputs": [
    {
     "name": "stdout",
     "output_type": "stream",
     "text": [
      "Variables: Let V2 = smoking; X = obesity; V3 = diabetes; Y = lifespan.\n",
      "Info: The overall probability of obesity is 85%. The probability of normal weight and long lifespan is 10%. The probability of obesity and long lifespan is 42%.\n",
      "Question: Is the chance of long lifespan larger when observing obesity?\n",
      "\n"
     ]
    },
    {
     "data": {
      "text/plain": [
       "'\"variables: let v2 = qawe; x = rtyu; v3 = opiu; y = lkmn.  \\ninfo: the overall probability of rtyu is 85%. the probability of non-rtyu and long lkmn is 10%. the probability of rtyu and long lkmn is 42%.  \\nquestion: is the chance of long lkmn larger when observing rtyu?\"'"
      ]
     },
     "execution_count": 24,
     "metadata": {},
     "output_type": "execute_result"
    }
   ],
   "source": [
    "from openai import OpenAI\n",
    "from constants import OPENAI_API_KEY\n",
    "client = OpenAI(api_key=OPENAI_API_KEY) \n",
    "\n",
    "print('Variables: ' + variables + '\\n' + 'Info: ' + info + '\\n' + 'Question: ' + question + '\\n')\n",
    "\n",
    "def perturb(info, question, variables, temperature=1.0):\n",
    "    \n",
    "    QUESTION_PROMPT = 'Variables: ' + variables + '\\n' + 'Info: ' + info + '\\n' + 'Question: ' + question + '\\n'\n",
    "    \n",
    "    prompt = RANDOMIZE_WORD_PROMPT + QUESTION_PROMPT + INSTRUCTION_PROMPT\n",
    "\n",
    "    completion = client.chat.completions.create(\n",
    "        model='gpt-4o',\n",
    "        messages=[\n",
    "            {\"role\": \"user\", \"content\": prompt}\n",
    "        ],\n",
    "        temperature=temperature,\n",
    "    )\n",
    "    \n",
    "    model_answer = completion.choices[0].message.content.lower()\n",
    "    return model_answer\n",
    "\n",
    "\n",
    "answer = perturb(info, question, variables)\n",
    "answer\n"
   ]
  },
  {
   "cell_type": "code",
   "execution_count": 25,
   "metadata": {},
   "outputs": [],
   "source": [
    "import re\n",
    "\n",
    "\n",
    "def extract_variables_info_question(text):\n",
    "    # Define regular expressions to match \"variables,\" \"info,\" and \"question\"\n",
    "    variables_pattern = r'variables:\\s*(.*?)\\ninfo:'\n",
    "    info_pattern = r'info:\\s*(.*?)\\nquestion:'\n",
    "    question_pattern = r'question:\\s*(.*?)$'\n",
    "    \n",
    "    # Extract variables, information, and question using regex\n",
    "    variables_match = re.search(variables_pattern, text, re.DOTALL)\n",
    "    info_match = re.search(info_pattern, text, re.DOTALL)\n",
    "    question_match = re.search(question_pattern, text, re.DOTALL)\n",
    "    \n",
    "    # Get the matched groups or return None if not found\n",
    "    variables = variables_match.group(1).strip() if variables_match else None\n",
    "    info = info_match.group(1).strip() if info_match else None\n",
    "    question = question_match.group(1).strip() if question_match else None\n",
    "    \n",
    "    return variables, info, question\n",
    "\n",
    "variables, info, question = extract_variables_info_question(answer)"
   ]
  },
  {
   "cell_type": "code",
   "execution_count": 26,
   "metadata": {},
   "outputs": [
    {
     "name": "stdout",
     "output_type": "stream",
     "text": [
      "let v2 = qawe; x = rtyu; v3 = opiu; y = lkmn.\n",
      "the overall probability of rtyu is 85%. the probability of non-rtyu and long lkmn is 10%. the probability of rtyu and long lkmn is 42%.\n",
      "is the chance of long lkmn larger when observing rtyu?\"\n"
     ]
    }
   ],
   "source": [
    "print(variables)\n",
    "print(info)\n",
    "print(question)"
   ]
  },
  {
   "cell_type": "code",
   "execution_count": 33,
   "metadata": {},
   "outputs": [
    {
     "name": "stdout",
     "output_type": "stream",
     "text": [
      "21 : Variables:  Let V2 = treatment assignment; V1 = unobserved confounders; X = drug taken; Y = cholesterol level.\n",
      "21 : Info:  For patients not assigned the drug treatment, the probability of low cholesterol is 54%. For patients assigned the drug treatment, the probability of low cholesterol is 52%. For patients not assigned the drug treatment, the probability of taking of all assigned drugs is 79%. For patients assigned the drug treatment, the probability of taking of all assigned drugs is 43%.\n",
      "21 : Question:  Will taking of all assigned drugs increase the chance of low cholesterol?\n",
      "21 : Nonsensical variables:  let v2 = asdf; v1 = qwer; x = zxcv; y = mnbv.\n",
      "21 : Nonsensical info:  for patients not assigned the zxcv, the probability of low mnbv is 54%. for patients assigned the zxcv, the probability of low mnbv is 52%. for patients not assigned the zxcv, the probability of taking of all assigned drugs is 79%. for patients assigned the zxcv, the probability of taking of all assigned drugs is 43%.\n",
      "21 : Nonsensical question:  will taking of all assigned drugs increase the chance of low mnbv?\n",
      "-------------------------------------------\n",
      "21\n",
      "22 : Variables:  Let V1 = pre-conditions; X = vaccination; Y = disease.\n",
      "22 : Info:  The overall probability of getting the vaccine is 52%. The probability of vaccine refusal and recovering from the disease is 13%. The probability of getting the vaccine and recovering from the disease is 35%.\n",
      "22 : Question:  Is the chance of recovering from the disease smaller when observing getting the vaccine?\n",
      "22 : Nonsensical variables:  let v1 = aidk; x = jong; y = obue.\n",
      "22 : Nonsensical info:  the overall probability of getting jong is 52%. the probability of not getting jong and recovering from obue is 13%. the probability of getting jong and recovering from obue is 35%.\n",
      "22 : Nonsensical question:  is the chance of recovering from obue smaller when observing getting jong?\"\n",
      "-------------------------------------------\n",
      "22\n",
      "23 : Variables:  Let X = the captain; V3 = the private; V2 = the corporal; Y = prisoner.\n",
      "23 : Info:  For captains who release prisoners, the probability of the prisoner's death is 23%. For captains who execute prisoners, the probability of the prisoner's death is 64%.\n",
      "23 : Question:  Will the captain's order to execute the prisoner increase the chance of the prisoner's death?\n",
      "23 : Nonsensical variables:  let x = abcd; v3 = efgh; v2 = ijkl; y = mnop.\n",
      "23 : Nonsensical info:  for abcd who release mnop, the probability of the mnop's death is 23%. for abcd who execute mnop, the probability of the mnop's death is 64%.\n",
      "23 : Nonsensical question:  will abcd's order to execute mnop increase the chance of mnop's death?\"\n",
      "-------------------------------------------\n",
      "23\n"
     ]
    }
   ],
   "source": [
    "\n",
    "# Apply perturbations\n",
    "for i in range(21, 24):\n",
    "\n",
    "    variables = df_cladder.iloc[i]['reasoning']['step0']\n",
    "    info = df_cladder.iloc[i]['info']\n",
    "    question = df_cladder.iloc[i]['question']\n",
    "\n",
    "    print(i, ': Variables: ', variables)\n",
    "    print(i, ': Info: ', info)\n",
    "    print(i, ': Question: ', question)\n",
    "    \n",
    "    answer = perturb(info, question, variables)\n",
    "    variables, info, question = extract_variables_info_question(answer)\n",
    "\n",
    "    df_cladder.at[i, 'nonsensical_info'] = info\n",
    "    df_cladder.at[i, 'nonsensical_question'] = question\n",
    "\n",
    "    print(i, ': Nonsensical variables: ', variables)\n",
    "    print(i, ': Nonsensical info: ', info)\n",
    "    print(i, ': Nonsensical question: ', question)\n",
    "\n",
    "    print('-------------------------------------------')\n",
    "\n",
    "    print(i)"
   ]
  },
  {
   "cell_type": "code",
   "execution_count": 39,
   "metadata": {},
   "outputs": [],
   "source": [
    "df_cladder.to_pickle('../data/cladder/nonsensical-data.pkl')"
   ]
  },
  {
   "cell_type": "markdown",
   "metadata": {},
   "source": [
    "### Data Quality Check"
   ]
  },
  {
   "cell_type": "code",
   "execution_count": 38,
   "metadata": {},
   "outputs": [
    {
     "data": {
      "text/plain": [
       "0"
      ]
     },
     "execution_count": 38,
     "metadata": {},
     "output_type": "execute_result"
    }
   ],
   "source": [
    "df_cladder['nonsensical_question'].isna().sum()"
   ]
  },
  {
   "cell_type": "code",
   "execution_count": 31,
   "metadata": {},
   "outputs": [
    {
     "name": "stdout",
     "output_type": "stream",
     "text": [
      "Overall Probability of Employee being Fired: 0.367\n",
      "Overall Probability of Employee NOT being Fired: 0.633\n",
      "Probability of Employee Fired given Manager Signs: 0.6314432989690721\n",
      "Probability of Employee Fired given Manager Does Not Sign: 0.19934640522875818\n"
     ]
    }
   ],
   "source": [
    "import pandas as pd\n",
    "import numpy as np\n",
    "\n",
    "# Step 1: Define the data based on the given probabilities\n",
    "data = {\n",
    "    'Manager_Signs': np.random.choice([0, 1], p=[0.61, 0.39], size=1000),  # Probability of signing is 39%\n",
    "    'Employee_Fired': None                                                 # Outcome variable to be filled in\n",
    "}\n",
    "\n",
    "# Step 2: Simulate Employee_Fired based on Manager_Signs\n",
    "# Given:\n",
    "# - P(Employee_Fired | Manager_Signs=1) = 0.60\n",
    "# - P(Employee_Fired | Manager_Signs=0) = 0.22\n",
    "data['Employee_Fired'] = np.where(\n",
    "    data['Manager_Signs'] == 1, \n",
    "    np.random.choice([1, 0], p=[0.60, 0.40], size=1000),\n",
    "    np.random.choice([1, 0], p=[0.22, 0.78], size=1000)\n",
    ")\n",
    "\n",
    "# Convert to DataFrame\n",
    "df = pd.DataFrame(data)\n",
    "\n",
    "# Step 3: Calculate overall probabilities\n",
    "overall_firing_prob = df['Employee_Fired'].mean()\n",
    "overall_not_firing_prob = 1 - overall_firing_prob\n",
    "\n",
    "# Calculate conditional probabilities\n",
    "firing_given_signs = df[df['Manager_Signs'] == 1]['Employee_Fired'].mean()\n",
    "firing_given_no_signs = df[df['Manager_Signs'] == 0]['Employee_Fired'].mean()\n",
    "\n",
    "# Print results\n",
    "print(f\"Overall Probability of Employee being Fired: {overall_firing_prob}\")\n",
    "print(f\"Overall Probability of Employee NOT being Fired: {overall_not_firing_prob}\")\n",
    "print(f\"Probability of Employee Fired given Manager Signs: {firing_given_signs}\")\n",
    "print(f\"Probability of Employee Fired given Manager Does Not Sign: {firing_given_no_signs}\")\n"
   ]
  }
 ],
 "metadata": {
  "kernelspec": {
   "display_name": "thesis",
   "language": "python",
   "name": "python3"
  },
  "language_info": {
   "codemirror_mode": {
    "name": "ipython",
    "version": 3
   },
   "file_extension": ".py",
   "mimetype": "text/x-python",
   "name": "python",
   "nbconvert_exporter": "python",
   "pygments_lexer": "ipython3",
   "version": "3.12.0"
  }
 },
 "nbformat": 4,
 "nbformat_minor": 2
}
